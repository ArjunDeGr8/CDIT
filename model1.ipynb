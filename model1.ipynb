{
 "cells": [
  {
   "cell_type": "code",
   "execution_count": null,
   "metadata": {},
   "outputs": [],
   "source": [
    "import cv2\n",
    "import numpy as np\n",
    "import os\n",
    "from tensorflow.keras.models import Sequential\n",
    "from tensorflow.keras.layers import Conv2D, MaxPooling2D, Flatten, Dense, Dropout\n",
    "from tensorflow.keras.preprocessing.image import ImageDataGenerator\n",
    "from sklearn.model_selection import train_test_split\n",
    "import matplotlib.pyplot as plt\n"
   ]
  },
  {
   "cell_type": "code",
   "execution_count": null,
   "metadata": {},
   "outputs": [],
   "source": [
    "def preprocess_image(img_path):\n",
    "    img = cv2.imread(img_path)\n",
    "    gray = cv2.cvtColor(img, cv2.COLOR_BGR2GRAY)\n",
    "    blurred = cv2.GaussianBlur(gray, (5, 5), 0)\n",
    "    edges = cv2.Canny(blurred, 50, 150)\n",
    "\n",
    "    # Find contours\n",
    "    contours, _ = cv2.findContours(edges, cv2.RETR_EXTERNAL, cv2.CHAIN_APPROX_SIMPLE)\n",
    "    output = img.copy()\n",
    "    for contour in contours:\n",
    "        approx = cv2.approxPolyDP(contour, 0.02 * cv2.arcLength(contour, True), True)\n",
    "        area = cv2.contourArea(contour)\n",
    "        if len(approx) > 8 and area > 100:  # Filter for circular shapes\n",
    "            cv2.drawContours(output, [contour], -1, (0, 255, 0), 2)\n",
    "    return output\n",
    "\n",
    "# Test preprocessing\n",
    "img_path = 'image.png'  # Update this with your image path\n",
    "preprocessed_img = preprocess_image(img_path)\n",
    "plt.imshow(cv2.cvtColor(preprocessed_img, cv2.COLOR_BGR2RGB))\n",
    "plt.title(\"Preprocessed Image - Contours Detected\")\n",
    "plt.show()\n"
   ]
  },
  {
   "cell_type": "code",
   "execution_count": null,
   "metadata": {},
   "outputs": [],
   "source": [
    "data_dir = 'data/train'  # Update with your directory path\n",
    "\n",
    "train_datagen = ImageDataGenerator(rescale=1./255, rotation_range=10, zoom_range=0.2,\n",
    "                                   width_shift_range=0.1, height_shift_range=0.1)\n",
    "train_data = train_datagen.flow_from_directory(data_dir, target_size=(128, 128),\n",
    "                                               batch_size=32, class_mode='binary')\n",
    "\n",
    "validation_datagen = ImageDataGenerator(rescale=1./255)\n",
    "validation_data = validation_datagen.flow_from_directory('data/validation',\n",
    "                                                         target_size=(128, 128),\n",
    "                                                         batch_size=32, class_mode='binary')\n",
    "\n",
    "print(train_data.class_indices)  # Verify the classes (seal and no_seal)\n"
   ]
  },
  {
   "cell_type": "code",
   "execution_count": null,
   "metadata": {},
   "outputs": [],
   "source": [
    "model = Sequential([\n",
    "    Conv2D(32, (3, 3), activation='relu', input_shape=(128, 128, 3)),\n",
    "    MaxPooling2D(pool_size=(2, 2)),\n",
    "    Conv2D(64, (3, 3), activation='relu'),\n",
    "    MaxPooling2D(pool_size=(2, 2)),\n",
    "    Conv2D(128, (3, 3), activation='relu'),\n",
    "    MaxPooling2D(pool_size=(2, 2)),\n",
    "    Flatten(),\n",
    "    Dense(128, activation='relu'),\n",
    "    Dropout(0.5),\n",
    "    Dense(1, activation='sigmoid')\n",
    "])\n",
    "\n",
    "model.compile(optimizer='adam', loss='binary_crossentropy', metrics=['accuracy'])\n",
    "model.summary()\n"
   ]
  },
  {
   "cell_type": "code",
   "execution_count": null,
   "metadata": {},
   "outputs": [],
   "source": [
    "history = model.fit(train_data, validation_data=validation_data, epochs=10)\n"
   ]
  },
  {
   "cell_type": "code",
   "execution_count": null,
   "metadata": {},
   "outputs": [],
   "source": [
    "loss, acc = model.evaluate(validation_data)\n",
    "print(f\"Validation Accuracy: {acc:.2f}\")\n"
   ]
  },
  {
   "cell_type": "code",
   "execution_count": null,
   "metadata": {},
   "outputs": [],
   "source": [
    "def predict_seal(img_path):\n",
    "    img = cv2.imread(img_path)\n",
    "    if img is None:\n",
    "        print(\"Image not found!\")\n",
    "        return\n",
    "    img_resized = cv2.resize(img, (128, 128))\n",
    "    img_resized = img_resized / 255.0\n",
    "    img_resized = np.expand_dims(img_resized, axis=0)\n",
    "\n",
    "    prediction = model.predict(img_resized)\n",
    "    if prediction[0][0] > 0.5:\n",
    "        print(\"Seal Detected\")\n",
    "    else:\n",
    "        print(\"No Seal Detected\")\n",
    "\n",
    "# Test prediction\n",
    "predict_seal('image.png')  # Replace with a test image path\n"
   ]
  }
 ],
 "metadata": {
  "kernelspec": {
   "display_name": "Python 3",
   "language": "python",
   "name": "python3"
  },
  "language_info": {
   "codemirror_mode": {
    "name": "ipython",
    "version": 3
   },
   "file_extension": ".py",
   "mimetype": "text/x-python",
   "name": "python",
   "nbconvert_exporter": "python",
   "pygments_lexer": "ipython3",
   "version": "3.12.8"
  }
 },
 "nbformat": 4,
 "nbformat_minor": 2
}
